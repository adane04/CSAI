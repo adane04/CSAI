{
 "cells": [
  {
   "cell_type": "markdown",
   "id": "337baf23-0a45-4960-8094-55962c466fbe",
   "metadata": {},
   "source": [
    "### Get Data (News articles) from GDELT"
   ]
  },
  {
   "cell_type": "code",
   "execution_count": null,
   "id": "b3dceb15-71ae-4d36-b785-182ab6bd3b97",
   "metadata": {},
   "outputs": [],
   "source": [
    "import gdelt\n",
    "\n",
    "# Version 1 queries\n",
    "gd1 = gdelt.gdelt(version=1)\n",
    "\n",
    "# pull single day, gkg table\n",
    "df1= gd1.Search(['2024 March 25','2024 March 27'],coverage=True,table='gkg')\n",
    "df1.shape"
   ]
  },
  {
   "cell_type": "code",
   "execution_count": null,
   "id": "264a461f-86ab-4114-86b8-c4a0fbaa4605",
   "metadata": {},
   "outputs": [],
   "source": [
    "df2.to_excel (\"gdelt_March28-30_2024.xlsx\")"
   ]
  },
  {
   "cell_type": "code",
   "execution_count": 15,
   "id": "a0057d61-42bd-40b9-9f47-36f060cc97c9",
   "metadata": {},
   "outputs": [],
   "source": [
    "import pandas as pd\n",
    "df2=pd.read_excel(\"gdelt_March28-30_2024.xlsx\",index_col=0)"
   ]
  },
  {
   "cell_type": "code",
   "execution_count": 16,
   "id": "1d179431-038d-4eab-9bac-bf71eecb2451",
   "metadata": {},
   "outputs": [
    {
     "data": {
      "text/plain": [
       "(213934, 5)"
      ]
     },
     "execution_count": 16,
     "metadata": {},
     "output_type": "execute_result"
    }
   ],
   "source": [
    "df2.shape"
   ]
  },
  {
   "cell_type": "code",
   "execution_count": 17,
   "id": "1802816d-e4b0-4b37-8ea7-8c0bc82c2850",
   "metadata": {},
   "outputs": [
    {
     "data": {
      "text/plain": [
       "Index(['DATE', 'THEMES', 'LOCATIONS', 'TONE', 'SOURCEURLS'], dtype='object')"
      ]
     },
     "execution_count": 17,
     "metadata": {},
     "output_type": "execute_result"
    }
   ],
   "source": [
    "df2.columns"
   ]
  },
  {
   "cell_type": "code",
   "execution_count": 18,
   "id": "62972b55-62c8-41ab-80f1-cf20c2a50b59",
   "metadata": {},
   "outputs": [
    {
     "data": {
      "text/html": [
       "<div>\n",
       "<style scoped>\n",
       "    .dataframe tbody tr th:only-of-type {\n",
       "        vertical-align: middle;\n",
       "    }\n",
       "\n",
       "    .dataframe tbody tr th {\n",
       "        vertical-align: top;\n",
       "    }\n",
       "\n",
       "    .dataframe thead th {\n",
       "        text-align: right;\n",
       "    }\n",
       "</style>\n",
       "<table border=\"1\" class=\"dataframe\">\n",
       "  <thead>\n",
       "    <tr style=\"text-align: right;\">\n",
       "      <th></th>\n",
       "      <th>DATE</th>\n",
       "      <th>THEMES</th>\n",
       "      <th>LOCATIONS</th>\n",
       "      <th>TONE</th>\n",
       "      <th>SOURCEURLS</th>\n",
       "    </tr>\n",
       "  </thead>\n",
       "  <tbody>\n",
       "    <tr>\n",
       "      <th>1</th>\n",
       "      <td>20240329</td>\n",
       "      <td>TAX_FNCACT;TAX_FNCACT_NOMINEES;MEDIA_SOCIAL;TA...</td>\n",
       "      <td>1#Ghana#GH#GH#8#-2#GH;4#Accra, Greater Accra, ...</td>\n",
       "      <td>1.52905198776758,5.19877675840979,3.6697247706...</td>\n",
       "      <td>https://www.modernghana.com/news/1302487/boga-...</td>\n",
       "    </tr>\n",
       "    <tr>\n",
       "      <th>2</th>\n",
       "      <td>20240329</td>\n",
       "      <td>WB_1920_FINANCIAL_SECTOR_DEVELOPMENT;WB_363_FI...</td>\n",
       "      <td>1#Poland#PL#PL#52#20#PL;1#Luxembourg#LU#LU#49....</td>\n",
       "      <td>-2.85306704707561,1.85449358059914,4.707560627...</td>\n",
       "      <td>https://www.theregister.com/2024/03/29/amazon_...</td>\n",
       "    </tr>\n",
       "    <tr>\n",
       "      <th>3</th>\n",
       "      <td>20240329</td>\n",
       "      <td>TAX_ETHNICITY;TAX_ETHNICITY_BLACK;NATURAL_DISA...</td>\n",
       "      <td>4#Waterloo, Ontario, Canada#CA#CA08#43.4667#-8...</td>\n",
       "      <td>-1.24792013311148,1.99667221297837,3.244592346...</td>\n",
       "      <td>https://www.salon.com/2024/03/28/orange-is-the...</td>\n",
       "    </tr>\n",
       "    <tr>\n",
       "      <th>4</th>\n",
       "      <td>20240329</td>\n",
       "      <td>LEADER;TAX_FNCACT;TAX_FNCACT_PRESIDENT;USPEC_P...</td>\n",
       "      <td>1#United States#US#US#39.828175#-98.5795#US;1#...</td>\n",
       "      <td>0.835073068893529,4.38413361169102,3.549060542...</td>\n",
       "      <td>https://www.thedailybeast.com/newsmax-helps-do...</td>\n",
       "    </tr>\n",
       "    <tr>\n",
       "      <th>5</th>\n",
       "      <td>20240329</td>\n",
       "      <td>CRISISLEX_CRISISLEXREC;RECRUITMENT;TAX_FNCACT;...</td>\n",
       "      <td>2#Connecticut, United States#US#USCT#41.5834#-...</td>\n",
       "      <td>0.504032258064516,3.32661290322581,2.822580645...</td>\n",
       "      <td>https://www.12news.com/article/news/nation-wor...</td>\n",
       "    </tr>\n",
       "  </tbody>\n",
       "</table>\n",
       "</div>"
      ],
      "text/plain": [
       "       DATE                                             THEMES  \\\n",
       "1  20240329  TAX_FNCACT;TAX_FNCACT_NOMINEES;MEDIA_SOCIAL;TA...   \n",
       "2  20240329  WB_1920_FINANCIAL_SECTOR_DEVELOPMENT;WB_363_FI...   \n",
       "3  20240329  TAX_ETHNICITY;TAX_ETHNICITY_BLACK;NATURAL_DISA...   \n",
       "4  20240329  LEADER;TAX_FNCACT;TAX_FNCACT_PRESIDENT;USPEC_P...   \n",
       "5  20240329  CRISISLEX_CRISISLEXREC;RECRUITMENT;TAX_FNCACT;...   \n",
       "\n",
       "                                           LOCATIONS  \\\n",
       "1  1#Ghana#GH#GH#8#-2#GH;4#Accra, Greater Accra, ...   \n",
       "2  1#Poland#PL#PL#52#20#PL;1#Luxembourg#LU#LU#49....   \n",
       "3  4#Waterloo, Ontario, Canada#CA#CA08#43.4667#-8...   \n",
       "4  1#United States#US#US#39.828175#-98.5795#US;1#...   \n",
       "5  2#Connecticut, United States#US#USCT#41.5834#-...   \n",
       "\n",
       "                                                TONE  \\\n",
       "1  1.52905198776758,5.19877675840979,3.6697247706...   \n",
       "2  -2.85306704707561,1.85449358059914,4.707560627...   \n",
       "3  -1.24792013311148,1.99667221297837,3.244592346...   \n",
       "4  0.835073068893529,4.38413361169102,3.549060542...   \n",
       "5  0.504032258064516,3.32661290322581,2.822580645...   \n",
       "\n",
       "                                          SOURCEURLS  \n",
       "1  https://www.modernghana.com/news/1302487/boga-...  \n",
       "2  https://www.theregister.com/2024/03/29/amazon_...  \n",
       "3  https://www.salon.com/2024/03/28/orange-is-the...  \n",
       "4  https://www.thedailybeast.com/newsmax-helps-do...  \n",
       "5  https://www.12news.com/article/news/nation-wor...  "
      ]
     },
     "execution_count": 18,
     "metadata": {},
     "output_type": "execute_result"
    }
   ],
   "source": [
    "df2.head()"
   ]
  },
  {
   "cell_type": "markdown",
   "id": "01d4992a-1a57-41fc-9bf1-a9df5f9f8bd0",
   "metadata": {},
   "source": [
   
   ]
  },
  {
   "cell_type": "code",
   "execution_count": null,
   "id": "afd3143d-73ee-43a7-8ebf-28591c5c5f82",
   "metadata": {},
   "outputs": [],
   "source": [
    "# Select 15k samples, 5k from each date value\n",
    "selected_rows = pd.concat([df2[df2['DATE'] == '20240327'].head(5000),\n",
    "                           df2[df2['DATE'] == '20240326'].head(5000),\n",
    "                           df2[df2['DATE'] == '20240325'].head(5000)])\n",
    "\n",
    "\n",
    "print(selected_rows.shape)\n",
    "selected_rows.head()"
   ]
  },
  {
   "cell_type": "markdown",
   "id": "17c5da59-e44c-4f82-8855-3e5bff57b696",
   "metadata": {},
   "source": [
    "### Extract news texts and titles  from SOURCEURLS"
   ]
  },
  {
   "cell_type": "code",
   "execution_count": null,
   "id": "15ef782e-7416-4780-b20f-93d89f4baa1c",
   "metadata": {},
   "outputs": [],
   "source": [
    "import pandas as pd\n",
    "import newspaper\n",
    "from newspaper import news_pool\n",
    "from tqdm import tqdm\n",
    "\n",
    "df = pd.read_excel('gdelt_March28-30_2024_15k.xlsx')\n",
    "\n",
   
    "def extract_text(url):\n",
    "    try:\n",
    "        article = newspaper.Article(url)\n",
    "        article.download()\n",
    "        article.parse()\n",
    "        text = article.text.strip()\n",
    "        return text, 'Success'\n",
    "    except Exception as e:\n",
    "        print(f\"Error fetching URL: {url}. Error: {str(e)}\")\n",
    "        return None, None\n",
    "\n",
  
    "texts = []\n",
    "for url in tqdm(df['SOURCEURLS'], desc=\"Extracting texts\"):\n",
    "    text, status = extract_text(url)\n",
    "    texts.append(text)\n",
    "\n",
   
    "df['Text'] = texts\n",
    "\n",
    "# Drop the \"Unnamed: \" column from the DataFrame\n",
    "df = df.loc[:, ~df.columns.str.startswith('Unnamed')]\n",
    "\n",
   
    "df = df.dropna(subset=['Text'])\n",
    "\n",
  
    "print(\"Total number of articles extracted:\", len(texts))\n",
    "print(\"DataFrame shape:\", df.shape)\n",
    "\n",

    "df.head()"
   ]
  },
  {
   "cell_type": "code",
   "execution_count": null,
   "id": "35006f8e-50be-4bfc-8eb8-ef780009be8a",
   "metadata": {},
   "outputs": [],
   "source": [
    "#f.to_excel(\"gdelt_extracted_MR_08_2024.xlsx\")\n",
    "#df.to_csv (\"GDELT_March_2024_10k_dataset.csv\")"
   ]
  },
  {
   "cell_type": "code",
   "execution_count": 34,
   "id": "006d77d9-cf6a-45bf-9ffb-9d860ad6259b",
   "metadata": {},
   "outputs": [
    {
     "data": {
      "text/html": [
       "<div>\n",
       "<style scoped>\n",
       "    .dataframe tbody tr th:only-of-type {\n",
       "        vertical-align: middle;\n",
       "    }\n",
       "\n",
       "    .dataframe tbody tr th {\n",
       "        vertical-align: top;\n",
       "    }\n",
       "\n",
       "    .dataframe thead th {\n",
       "        text-align: right;\n",
       "    }\n",
       "</style>\n",
       "<table border=\"1\" class=\"dataframe\">\n",
       "  <thead>\n",
       "    <tr style=\"text-align: right;\">\n",
       "      <th></th>\n",
       "      <th>DATE</th>\n",
       "      <th>SOURCEURLS</th>\n",
       "      <th>Title</th>\n",
       "      <th>Text</th>\n",
       "    </tr>\n",
       "  </thead>\n",
       "  <tbody>\n",
       "    <tr>\n",
       "      <th>0</th>\n",
       "      <td>20240328</td>\n",
       "      <td>https://www.yahoo.com/news...</td>\n",
       "      <td>Rain and snow in Wisconsin...</td>\n",
       "      <td>In the last week, heavy sn...</td>\n",
       "    </tr>\n",
       "    <tr>\n",
       "      <th>1</th>\n",
       "      <td>20240328</td>\n",
       "      <td>https://www.washingtontime...</td>\n",
       "      <td>Youngkin vetoes Virginia b...</td>\n",
       "      <td>RICHMOND, Va. — Republican...</td>\n",
       "    </tr>\n",
       "    <tr>\n",
       "      <th>2</th>\n",
       "      <td>20240328</td>\n",
       "      <td>https://www.journal-news.c...</td>\n",
       "      <td>GDPR Support</td>\n",
       "      <td>logo_ddn_tag_Site JN with ...</td>\n",
       "    </tr>\n",
       "    <tr>\n",
       "      <th>4</th>\n",
       "      <td>20240328</td>\n",
       "      <td>https://www.winnipegfreepr...</td>\n",
       "      <td>Nigerian parents finally g...</td>\n",
       "      <td>KADUNA, Nigeria (AP) — Par...</td>\n",
       "    </tr>\n",
       "    <tr>\n",
       "      <th>5</th>\n",
       "      <td>20240328</td>\n",
       "      <td>https://godanriver.com/lif...</td>\n",
       "      <td>Taking the kids: Get ready...</td>\n",
       "      <td>Mark your calendars! There...</td>\n",
       "    </tr>\n",
       "  </tbody>\n",
       "</table>\n",
       "</div>"
      ],
      "text/plain": [
       "       DATE                     SOURCEURLS                          Title  \\\n",
       "0  20240328  https://www.yahoo.com/news...  Rain and snow in Wisconsin...   \n",
       "1  20240328  https://www.washingtontime...  Youngkin vetoes Virginia b...   \n",
       "2  20240328  https://www.journal-news.c...                   GDPR Support   \n",
       "4  20240328  https://www.winnipegfreepr...  Nigerian parents finally g...   \n",
       "5  20240328  https://godanriver.com/lif...  Taking the kids: Get ready...   \n",
       "\n",
       "                            Text  \n",
       "0  In the last week, heavy sn...  \n",
       "1  RICHMOND, Va. — Republican...  \n",
       "2  logo_ddn_tag_Site JN with ...  \n",
       "4  KADUNA, Nigeria (AP) — Par...  \n",
       "5  Mark your calendars! There...  "
      ]
     },
     "execution_count": 34,
     "metadata": {},
     "output_type": "execute_result"
    }
   ],
   "source": [
    "df3=pd.read_csv(\"GDELT_March_2024_10k_dataset.csv\", index_col=0)\n",
    "\n",
    "#pd.set_option('display.max_colwidth', None)\n",
    "pd.set_option('display.max_colwidth', 30)\n",
    "#print(df3.shape)\n",
    "df3.head()"
   ]
  },
  {
   "cell_type": "markdown",
   "id": "9d29d674-9cd3-4dfe-adf7-26e8f1b4a9a0",
   "metadata": {},
   "source": [
    "### Clustering Newspaper Articles from GDELT"
   ]
  },
  {
   "cell_type": "markdown",
   "id": "50421497-1a75-47f3-b471-62f764cd90fc",
   "metadata": {},
   "source": [
    "### Import packages "
   ]
  },
  {
   "cell_type": "code",
   "execution_count": 1,
   "id": "447063b1-dcab-473b-8470-c9972aabb486",
   "metadata": {},
   "outputs": [
    {
     "name": "stderr",
     "output_type": "stream",
     "text": [
      "/Users/adanetarekegn/anaconda3/envs/KG_ML/lib/python3.11/site-packages/pandas/core/arrays/masked.py:60: UserWarning: Pandas requires version '1.3.6' or newer of 'bottleneck' (version '1.3.5' currently installed).\n",
      "  from pandas.core import (\n"
     ]
    }
   ],
   "source": [
    "#pip install datasets sentence-transformers umap-learn hdbscan keybert\n",
    "# manage data\n",
    "from datasets import load_dataset\n",
    "import pandas as pd\n",
    "\n",
    "# embeddings\n",
    "from sentence_transformers import SentenceTransformer\n",
    "\n",
    "# dimensionality reduction\n",
    "import umap\n",
    "\n",
    "# clustering\n",
    "import hdbscan\n",
    "\n",
    "# extract keywords from texts\n",
    "# used to assign meaningful names to clusters\n",
    "from keybert import KeyBERT\n",
    "\n",
    "# visualization\n",
    "import plotly.express as px"
   ]
  },
  {
   "cell_type": "code",
   "execution_count": 35,
   "id": "b1c64b56-dc81-4aa5-b80e-454076909f9b",
   "metadata": {},
   "outputs": [
    {
     "data": {
      "text/html": [
       "<div>\n",
       "<style scoped>\n",
       "    .dataframe tbody tr th:only-of-type {\n",
       "        vertical-align: middle;\n",
       "    }\n",
       "\n",
       "    .dataframe tbody tr th {\n",
       "        vertical-align: top;\n",
       "    }\n",
       "\n",
       "    .dataframe thead th {\n",
       "        text-align: right;\n",
       "    }\n",
       "</style>\n",
       "<table border=\"1\" class=\"dataframe\">\n",
       "  <thead>\n",
       "    <tr style=\"text-align: right;\">\n",
       "      <th></th>\n",
       "      <th>DATE</th>\n",
       "      <th>SOURCEURLS</th>\n",
       "      <th>Title</th>\n",
       "      <th>Text</th>\n",
       "    </tr>\n",
       "  </thead>\n",
       "  <tbody>\n",
       "    <tr>\n",
       "      <th>0</th>\n",
       "      <td>20240328</td>\n",
       "      <td>https://www.yahoo.com/news...</td>\n",
       "      <td>Rain and snow in Wisconsin...</td>\n",
       "      <td>In the last week, heavy sn...</td>\n",
       "    </tr>\n",
       "    <tr>\n",
       "      <th>1</th>\n",
       "      <td>20240328</td>\n",
       "      <td>https://www.washingtontime...</td>\n",
       "      <td>Youngkin vetoes Virginia b...</td>\n",
       "      <td>RICHMOND, Va. — Republican...</td>\n",
       "    </tr>\n",
       "    <tr>\n",
       "      <th>2</th>\n",
       "      <td>20240328</td>\n",
       "      <td>https://www.journal-news.c...</td>\n",
       "      <td>GDPR Support</td>\n",
       "      <td>logo_ddn_tag_Site JN with ...</td>\n",
       "    </tr>\n",
       "    <tr>\n",
       "      <th>4</th>\n",
       "      <td>20240328</td>\n",
       "      <td>https://www.winnipegfreepr...</td>\n",
       "      <td>Nigerian parents finally g...</td>\n",
       "      <td>KADUNA, Nigeria (AP) — Par...</td>\n",
       "    </tr>\n",
       "    <tr>\n",
       "      <th>5</th>\n",
       "      <td>20240328</td>\n",
       "      <td>https://godanriver.com/lif...</td>\n",
       "      <td>Taking the kids: Get ready...</td>\n",
       "      <td>Mark your calendars! There...</td>\n",
       "    </tr>\n",
       "  </tbody>\n",
       "</table>\n",
       "</div>"
      ],
      "text/plain": [
       "       DATE                     SOURCEURLS                          Title  \\\n",
       "0  20240328  https://www.yahoo.com/news...  Rain and snow in Wisconsin...   \n",
       "1  20240328  https://www.washingtontime...  Youngkin vetoes Virginia b...   \n",
       "2  20240328  https://www.journal-news.c...                   GDPR Support   \n",
       "4  20240328  https://www.winnipegfreepr...  Nigerian parents finally g...   \n",
       "5  20240328  https://godanriver.com/lif...  Taking the kids: Get ready...   \n",
       "\n",
       "                            Text  \n",
       "0  In the last week, heavy sn...  \n",
       "1  RICHMOND, Va. — Republican...  \n",
       "2  logo_ddn_tag_Site JN with ...  \n",
       "4  KADUNA, Nigeria (AP) — Par...  \n",
       "5  Mark your calendars! There...  "
      ]
     },
     "execution_count": 35,
     "metadata": {},
     "output_type": "execute_result"
    }
   ],
   "source": [
    "# download data\n",
    "import pandas as pd\n",
    "df=pd.read_csv(\"GDELT_March_2024_10k_dataset.csv\",index_col=0) #Web scrapping articles \n",
    "#print(df.shape)\n",
    "df.head()"
   ]
  },
  {
   "cell_type": "markdown",
   "id": "cc54f15b-1c8b-49d6-a0b0-be50fcc99336",
   "metadata": {},
   "source": [
    "The dataset contains 120k articles. Let’s keep only 3k of them to make computations faster in this project."
   ]
  },
  {
   "cell_type": "markdown",
   "id": "28c50cb1-34b1-4493-9811-3d8013f31f13",
   "metadata": {},
   "source": [
    "## Data Preprocesing"
   ]
  },
  {
   "cell_type": "code",
   "execution_count": 3,
   "id": "84a32c87-90a9-4fc2-bff0-e1947c78e22e",
   "metadata": {},
   "outputs": [],
   "source": [
    "import re\n",
    "\n",
    "# Convert text to lowercase, handling NaN values\n",
    "df['Text'] = df.Text.apply(lambda x: x.lower() if pd.notna(x) else x)\n",
    "# Remove numbers from the text, handling NaN values\n",
    "#df['Text'] = df.Text.apply(lambda x: re.sub(r'\\d+', '', x) if pd.notna(x) else x)\n",
    "# Remove punctuation from the text, handling NaN values\n",
    "#df['Text'] = df.Text.apply(lambda x: re.sub(r'[^\\w\\s]', ' ', x) if pd.notna(x) else x)\n",
    "# Remove leading and trailing whitespaces, handling NaN values\n",
    "df['Text'] = df.Text.apply(lambda x: x.strip() if pd.notna(x) else x)"
   ]
  },
  {
   "cell_type": "code",
   "execution_count": 4,
   "id": "4646e8d5-d927-4e7c-81a4-d90b51f01c9f",
   "metadata": {},
   "outputs": [],
   "source": [
    "def clean(raw):\n",
    "    \"\"\" Remove hyperlinks and markup \"\"\"\n",
    "    # Check if text is not NaN\n",
    "    if pd.notna(raw):\n",
    "        result = re.sub(\"<[a][^>]*>(.+?)</[a]>\", 'Link.', raw)\n",
    "        #result= re.sub(\"[^a-zA-Z]\",\"\",str(result)) # Search for all non-letters  \" \",   # Replace all non-letters with spaces\n",
    "        result = re.sub('&gt;', \"\", result)\n",
    "        result = re.sub('&#x27;', \"'\", result)\n",
    "        result = re.sub('&quot;', '\"', result)\n",
    "        result = re.sub('&#x2F;', ' ', result)\n",
    "        result = re.sub('<p>', ' ', result)\n",
    "        result = re.sub('</i>', '', result)\n",
    "        result = re.sub('&#62;', '', result)\n",
    "        result = re.sub('<i>', ' ', result)\n",
    "        result = re.sub(\"\\n\", '', result)\n",
    "        result = re.sub(\"\\t\", '', result)\n",
    "        return result\n",
    "    else:\n",
    "        return raw  # Return NaN value as is\n",
    "\n",
    "# Apply the clean function to the 'Text' column\n",
    "df['Text'] = df['Text'].apply(clean)"
   ]
  },
  {
   "cell_type": "markdown",
   "id": "ed9e3966-3880-487b-ba50-dc02cb9a2467",
   "metadata": {},
   "source": [
    "#### Remove non-English words"
   ]
  },
  {
   "cell_type": "code",
   "execution_count": 5,
   "id": "96a04709-b1de-4883-8a17-3e523d3098dc",
   "metadata": {},
   "outputs": [],
   "source": [
    "from langdetect import detect\n",
    "\n",
    "# Assuming df is your DataFrame and 'Text' is the column containing text data\n",
    "\n",
    "# Replace NaN values in the 'Text' column with an empty string\n",
    "df[\"Text\"] = df[\"Text\"].fillna(\"\")\n",
    "\n",
    "# Filter rows with English text\n",
    "def detect_language(text):\n",
    "    try:\n",
    "        if len(str(text)) < 3:  # Adjust the threshold as needed\n",
    "            return \"Too Short\"\n",
    "        return detect(str(text))\n",
    "    except:\n",
    "        return \"Unknown\"\n",
    "\n",
    "df[\"Language\"] = df[\"Text\"].apply(detect_language)\n",
    "df_filtered = df[df[\"Language\"] == \"en\"]"
   ]
  },
  {
   "cell_type": "code",
   "execution_count": 37,
   "id": "06f0ef84-8d5c-4210-aeb3-047bad95d7c5",
   "metadata": {},
   "outputs": [],
   "source": [
    "#print(df_filtered.shape)\n",
    "#df_filtered.head()"
   ]
  },
  {
   "cell_type": "code",
   "execution_count": null,
   "id": "bbfb7e58-daca-466c-a605-e9311c8bc2c5",
   "metadata": {},
   "outputs": [],
   "source": [
    "from keybert import KeyBERT\n",
    "\n",
    "kw_model = KeyBERT()\n",
    "keyword_list = df_filtered.Text.tolist()\n",
    "keyword_keys = kw_model.extract_keywords(keyword_list)\n",
    "df_filtered[\"keyword_keys\"] = keyword_keys"
   ]
  },
  {
   "cell_type": "code",
   "execution_count": 12,
   "id": "eb528d45-186d-4eb2-9a92-a71c17d25c12",
   "metadata": {},
   "outputs": [
    {
     "data": {
      "text/plain": [
       "Index(['DATE', 'SOURCEURLS', 'Title', 'Text', 'Language', 'keyword_keys'], dtype='object')"
      ]
     },
     "execution_count": 12,
     "metadata": {},
     "output_type": "execute_result"
    }
   ],
   "source": [
    "df_filtered.columns"
   ]
  },
  {
   "cell_type": "code",
   "execution_count": 14,
   "id": "cadea3af-f9f7-4892-9458-c9e872166458",
   "metadata": {},
   "outputs": [
    {
     "data": {
      "text/html": [
       "<div>\n",
       "<style scoped>\n",
       "    .dataframe tbody tr th:only-of-type {\n",
       "        vertical-align: middle;\n",
       "    }\n",
       "\n",
       "    .dataframe tbody tr th {\n",
       "        vertical-align: top;\n",
       "    }\n",
       "\n",
       "    .dataframe thead th {\n",
       "        text-align: right;\n",
       "    }\n",
       "</style>\n",
       "<table border=\"1\" class=\"dataframe\">\n",
       "  <thead>\n",
       "    <tr style=\"text-align: right;\">\n",
       "      <th></th>\n",
       "      <th>DATE</th>\n",
       "      <th>SOURCEURLS</th>\n",
       "      <th>Title</th>\n",
       "      <th>Text</th>\n",
       "      <th>keyword_keys</th>\n",
       "    </tr>\n",
       "  </thead>\n",
       "  <tbody>\n",
       "    <tr>\n",
       "      <th>0</th>\n",
       "      <td>20240328</td>\n",
       "      <td>https://www.yahoo.com/news/rain-snow-wisconsin...</td>\n",
       "      <td>Rain and snow in Wisconsin offer some relief f...</td>\n",
       "      <td>in the last week, heavy snow and rain througho...</td>\n",
       "      <td>[(drought, 0.5093), (droughts, 0.4863), (wisco...</td>\n",
       "    </tr>\n",
       "    <tr>\n",
       "      <th>1</th>\n",
       "      <td>20240328</td>\n",
       "      <td>https://www.washingtontimes.com/news/2024/mar/...</td>\n",
       "      <td>Youngkin vetoes Virginia bills mandating minim...</td>\n",
       "      <td>richmond, va. — republican virginia gov. glenn...</td>\n",
       "      <td>[(marijuana, 0.4246), (cannabis, 0.3914), (leg...</td>\n",
       "    </tr>\n",
       "    <tr>\n",
       "      <th>2</th>\n",
       "      <td>20240328</td>\n",
       "      <td>https://www.journal-news.com/nation-world/a-ti...</td>\n",
       "      <td>GDPR Support</td>\n",
       "      <td>logo_ddn_tag_site jn with tagline logo-sns_tag...</td>\n",
       "      <td>[(logo_ddn_tag_site, 0.7676), (sns_tag_siteour...</td>\n",
       "    </tr>\n",
       "  </tbody>\n",
       "</table>\n",
       "</div>"
      ],
      "text/plain": [
       "       DATE                                         SOURCEURLS  \\\n",
       "0  20240328  https://www.yahoo.com/news/rain-snow-wisconsin...   \n",
       "1  20240328  https://www.washingtontimes.com/news/2024/mar/...   \n",
       "2  20240328  https://www.journal-news.com/nation-world/a-ti...   \n",
       "\n",
       "                                               Title  \\\n",
       "0  Rain and snow in Wisconsin offer some relief f...   \n",
       "1  Youngkin vetoes Virginia bills mandating minim...   \n",
       "2                                       GDPR Support   \n",
       "\n",
       "                                                Text  \\\n",
       "0  in the last week, heavy snow and rain througho...   \n",
       "1  richmond, va. — republican virginia gov. glenn...   \n",
       "2  logo_ddn_tag_site jn with tagline logo-sns_tag...   \n",
       "\n",
       "                                        keyword_keys  \n",
       "0  [(drought, 0.5093), (droughts, 0.4863), (wisco...  \n",
       "1  [(marijuana, 0.4246), (cannabis, 0.3914), (leg...  \n",
       "2  [(logo_ddn_tag_site, 0.7676), (sns_tag_siteour...  "
      ]
     },
     "execution_count": 14,
     "metadata": {},
     "output_type": "execute_result"
    }
   ],
   "source": [
    "df_filtered=df_filtered[['DATE', 'SOURCEURLS', 'Title', 'Text', 'keyword_keys']]\n",
    "df_filtered.head(3)"
   ]
  },
  {
   "cell_type": "markdown",
   "id": "20904a4e-ed9e-443e-9231-9079e40c94f0",
   "metadata": {},
   "source": [
    "### LLM for Keyword extraction"
   ]
  },
  {
   "cell_type": "code",
   "execution_count": null,
   "id": "3f846f6b-9fa1-4d85-8347-f04bbd9cc4b9",
   "metadata": {},
   "outputs": [],
   "source": [
    "import openai\n",
    "from keybert.llm import OpenAI\n",
    "from keybert import KeyLLM"
   ]
  },
  {
   "cell_type": "code",
   "execution_count": null,
   "id": "9384d39a-ba7f-405c-bd9c-0691b4597858",
   "metadata": {},
   "outputs": [],
   "source": [
    "# Create your LLM\n",
    "openai.api_key = \"key\"\n",
    "\n",
    "prompt = \"\"\"\n",
    " find  keywords  that best describe  text.\n",
 
    "\"\"\"\n",
    "llm = OpenAI(model=\"gpt-4\", prompt=prompt, chat=True)\n",
    "\n",
    "# Load it in KeyLLM\n",
    "kw_model = KeyLLM(llm)\n",
    "\n",
    "titles_list = df_filtered.Text.tolist()\n",
    "# Extract keywords\n",
    "keywords = kw_model.extract_keywords(titles_list, check_vocab=True); keywords\n",
    "\n",
    "# Add the results to df\n",
    "df_filtered[\"kewords\"] = keywords\n",
    "time.sleep(30)"
   ]
  },
  {
   "cell_type": "code",
   "execution_count": null,
   "id": "f358cb56-506a-4ccb-b0ca-90c05e23d717",
   "metadata": {},
   "outputs": [],
   "source": [
    "# Save the data and the results to a file\n",
    "df_filtered.to_csv(\"extracted_keys_file_keyLLM.csv\", index=False)"
   ]
  },
  {
   "cell_type": "code",
   "execution_count": 15,
   "id": "aff659d8-879b-4f57-b286-e74e496017cd",
   "metadata": {},
   "outputs": [
    {
     "data": {
      "text/html": [
       "<div>\n",
       "<style scoped>\n",
       "    .dataframe tbody tr th:only-of-type {\n",
       "        vertical-align: middle;\n",
       "    }\n",
       "\n",
       "    .dataframe tbody tr th {\n",
       "        vertical-align: top;\n",
       "    }\n",
       "\n",
       "    .dataframe thead th {\n",
       "        text-align: right;\n",
       "    }\n",
       "</style>\n",
       "<table border=\"1\" class=\"dataframe\">\n",
       "  <thead>\n",
       "    <tr style=\"text-align: right;\">\n",
       "      <th></th>\n",
       "      <th>DATE</th>\n",
       "      <th>SOURCEURLS</th>\n",
       "      <th>Title</th>\n",
       "      <th>Text</th>\n",
       "      <th>keyword_keys</th>\n",
       "    </tr>\n",
       "  </thead>\n",
       "  <tbody>\n",
       "    <tr>\n",
       "      <th>0</th>\n",
       "      <td>20240328</td>\n",
       "      <td>https://www.yaho...</td>\n",
       "      <td>Rain and snow in...</td>\n",
       "      <td>in the last week...</td>\n",
       "      <td>[(drought, 0.509...</td>\n",
       "    </tr>\n",
       "    <tr>\n",
       "      <th>1</th>\n",
       "      <td>20240328</td>\n",
       "      <td>https://www.wash...</td>\n",
       "      <td>Youngkin vetoes ...</td>\n",
       "      <td>richmond, va. — ...</td>\n",
       "      <td>[(marijuana, 0.4...</td>\n",
       "    </tr>\n",
       "    <tr>\n",
       "      <th>2</th>\n",
       "      <td>20240328</td>\n",
       "      <td>https://www.jour...</td>\n",
       "      <td>GDPR Support</td>\n",
       "      <td>logo_ddn_tag_sit...</td>\n",
       "      <td>[(logo_ddn_tag_s...</td>\n",
       "    </tr>\n",
       "    <tr>\n",
       "      <th>4</th>\n",
       "      <td>20240328</td>\n",
       "      <td>https://www.winn...</td>\n",
       "      <td>Nigerian parents...</td>\n",
       "      <td>kaduna, nigeria ...</td>\n",
       "      <td>[(kaduna, 0.5333...</td>\n",
       "    </tr>\n",
       "    <tr>\n",
       "      <th>5</th>\n",
       "      <td>20240328</td>\n",
       "      <td>https://godanriv...</td>\n",
       "      <td>Taking the kids:...</td>\n",
       "      <td>mark your calend...</td>\n",
       "      <td>[(eclipse, 0.470...</td>\n",
       "    </tr>\n",
       "  </tbody>\n",
       "</table>\n",
       "</div>"
      ],
      "text/plain": [
       "       DATE           SOURCEURLS                Title                 Text  \\\n",
       "0  20240328  https://www.yaho...  Rain and snow in...  in the last week...   \n",
       "1  20240328  https://www.wash...  Youngkin vetoes ...  richmond, va. — ...   \n",
       "2  20240328  https://www.jour...         GDPR Support  logo_ddn_tag_sit...   \n",
       "4  20240328  https://www.winn...  Nigerian parents...  kaduna, nigeria ...   \n",
       "5  20240328  https://godanriv...  Taking the kids:...  mark your calend...   \n",
       "\n",
       "          keyword_keys  \n",
       "0  [(drought, 0.509...  \n",
       "1  [(marijuana, 0.4...  \n",
       "2  [(logo_ddn_tag_s...  \n",
       "4  [(kaduna, 0.5333...  \n",
       "5  [(eclipse, 0.470...  "
      ]
     },
     "execution_count": 15,
     "metadata": {},
     "output_type": "execute_result"
    }
   ],
   "source": [
    "# Take a look at the output\n",
    "pd.set_option('display.max_colwidth', 20)\n",
    "df_filtered.head()     "
   ]
  },
  {
   "cell_type": "code",
   "execution_count": 38,
   "id": "b845a7e4-0baa-403b-97b7-a6e94ad2bd36",
   "metadata": {},
   "outputs": [],
   "source": [
    "import pandas as pd\n",
    "import ast\n",
    "\n",
    "# Create a column that records the number of keywords/keyphrases\n",
    "df_filtered['keys_length'] = df_filtered['keyword_keys'].apply(lambda x: len(x))\n",
    "#df_filtered.head() "
   ]
  },
  {
   "cell_type": "code",
   "execution_count": null,
   "id": "bbac2d77-ee26-470c-ac84-905c1e070bef",
   "metadata": {},
   "outputs": [],
   "source": [
    "# Keep those titles that have 5 keywords/keyphrases only\n",
    "df5 = df_filtered[df_filtered.keys_length == 5]\n",
    "df5.drop('keys_length', axis=1, inplace=True)\n",
    "# Save the data to a csv file\n",
    "df5.to_csv(\"parsed_5_keys_file.csv\", index=False)\n",
    "df5.head()"
   ]
  },
  {
   "cell_type": "code",
   "execution_count": 20,
   "id": "cad9b1f7-35b7-49a2-b08b-01290887e809",
   "metadata": {},
   "outputs": [
    {
     "data": {
      "text/plain": [
       "(38020, 2)"
      ]
     },
     "execution_count": 20,
     "metadata": {},
     "output_type": "execute_result"
    }
   ],
   "source": [
    "# Create a list of all sublists of keywords and keyphrases\n",
    "df5_keys = df5.keyword_keys.tolist()\n",
    "flat_keys = [item for sublist in df5_keys for item in sublist]\n",
    "\n",
    "# Create a list of unique keywords\n",
    "flat_keys = list(set(flat_keys))\n",
    "keys_df = pd.DataFrame(flat_keys, columns = ['key','score'])\n",
    "keys_df.shape     "
   ]
  },
  {
   "cell_type": "code",
   "execution_count": 21,
   "id": "7451a2fc-5cea-4e47-8498-09db2b008c52",
   "metadata": {},
   "outputs": [
    {
     "data": {
      "text/html": [
       "<div>\n",
       "<style scoped>\n",
       "    .dataframe tbody tr th:only-of-type {\n",
       "        vertical-align: middle;\n",
       "    }\n",
       "\n",
       "    .dataframe tbody tr th {\n",
       "        vertical-align: top;\n",
       "    }\n",
       "\n",
       "    .dataframe thead th {\n",
       "        text-align: right;\n",
       "    }\n",
       "</style>\n",
       "<table border=\"1\" class=\"dataframe\">\n",
       "  <thead>\n",
       "    <tr style=\"text-align: right;\">\n",
       "      <th></th>\n",
       "      <th>key</th>\n",
       "      <th>score</th>\n",
       "    </tr>\n",
       "  </thead>\n",
       "  <tbody>\n",
       "    <tr>\n",
       "      <th>0</th>\n",
       "      <td>hengshui</td>\n",
       "      <td>0.4632</td>\n",
       "    </tr>\n",
       "    <tr>\n",
       "      <th>1</th>\n",
       "      <td>miller</td>\n",
       "      <td>0.4315</td>\n",
       "    </tr>\n",
       "    <tr>\n",
       "      <th>2</th>\n",
       "      <td>oscars</td>\n",
       "      <td>0.3332</td>\n",
       "    </tr>\n",
       "    <tr>\n",
       "      <th>3</th>\n",
       "      <td>sewage</td>\n",
       "      <td>0.3001</td>\n",
       "    </tr>\n",
       "    <tr>\n",
       "      <th>4</th>\n",
       "      <td>fares</td>\n",
       "      <td>0.3618</td>\n",
       "    </tr>\n",
       "  </tbody>\n",
       "</table>\n",
       "</div>"
      ],
      "text/plain": [
       "        key   score\n",
       "0  hengshui  0.4632\n",
       "1    miller  0.4315\n",
       "2    oscars  0.3332\n",
       "3    sewage  0.3001\n",
       "4     fares  0.3618"
      ]
     },
     "execution_count": 21,
     "metadata": {},
     "output_type": "execute_result"
    }
   ],
   "source": [
    "# Display a sample of keywords or keyphrases\n",
    "keys_df.head()     "
   ]
  },
  {
   "cell_type": "markdown",
   "id": "427bd787-23cd-41e5-b657-46f3eb4684b7",
   "metadata": {},
   "source": [
    "### LLM embedding: using text-embedding-ada-002"
   ]
  },
  {
   "cell_type": "code",
   "execution_count": 13,
   "id": "8a9a4f80-132c-4f2c-a6e0-ea322c438a58",
   "metadata": {},
   "outputs": [],
   "source": [
    "import os\n",
    "import openai\n",
    "\n",
    "# Set your OpenAI API key\n",
    "openai.api_key = \"key\"\n",
    "#  access the API key through os.environ\n",
    "os.environ['OPENAI_API_KEY'] = openai.api_key\n"
   ]
  },
  {
   "cell_type": "code",
   "execution_count": null,
   "id": "806a0387-2457-47f4-a0a0-fad69c26c0b5",
   "metadata": {},
   "outputs": [],
   "source": [
    "def get_embedding(text, model=\"text-embedding-ada-002\"):\n",
    "   text = text.replace(\"\\n\", \" \")\n",
    "   return openai.Embedding.create(input = [text], model=model)['data'][0]['embedding']\n",
    "\n",
    "keys_df['LLM_embedding'] = keys_df.key.apply(lambda x: get_embedding(x, model='text-embedding-ada-002'))\n",
    "#keys_df.to_csv('gdelt_title_text_with_LLM_embedding.csv', index=0) # save the embedding"
   ]
  },
  {
   "cell_type": "code",
   "execution_count": 29,
   "id": "0175022a-38f1-45e4-8853-6227204458f5",
   "metadata": {},
   "outputs": [
    {
     "name": "stdout",
     "output_type": "stream",
     "text": [
      "(18514, 3)\n"
     ]
    },
    {
     "data": {
      "text/html": [
       "<div>\n",
       "<style scoped>\n",
       "    .dataframe tbody tr th:only-of-type {\n",
       "        vertical-align: middle;\n",
       "    }\n",
       "\n",
       "    .dataframe tbody tr th {\n",
       "        vertical-align: top;\n",
       "    }\n",
       "\n",
       "    .dataframe thead th {\n",
       "        text-align: right;\n",
       "    }\n",
       "</style>\n",
       "<table border=\"1\" class=\"dataframe\">\n",
       "  <thead>\n",
       "    <tr style=\"text-align: right;\">\n",
       "      <th></th>\n",
       "      <th>Key</th>\n",
       "      <th>Score</th>\n",
       "      <th>LLM_embeddings</th>\n",
       "    </tr>\n",
       "  </thead>\n",
       "  <tbody>\n",
       "    <tr>\n",
       "      <th>0</th>\n",
       "      <td>hyundai</td>\n",
       "      <td>0.4551</td>\n",
       "      <td>[-0.012657809071...</td>\n",
       "    </tr>\n",
       "    <tr>\n",
       "      <th>1</th>\n",
       "      <td>jailing</td>\n",
       "      <td>0.3627</td>\n",
       "      <td>[-0.023275019600...</td>\n",
       "    </tr>\n",
       "    <tr>\n",
       "      <th>2</th>\n",
       "      <td>nicknames</td>\n",
       "      <td>0.3657</td>\n",
       "      <td>[-0.032408613711...</td>\n",
       "    </tr>\n",
       "    <tr>\n",
       "      <th>3</th>\n",
       "      <td>currencies</td>\n",
       "      <td>0.3676</td>\n",
       "      <td>[-0.004608497489...</td>\n",
       "    </tr>\n",
       "    <tr>\n",
       "      <th>4</th>\n",
       "      <td>politician</td>\n",
       "      <td>0.3417</td>\n",
       "      <td>[-0.019050309434...</td>\n",
       "    </tr>\n",
       "  </tbody>\n",
       "</table>\n",
       "</div>"
      ],
      "text/plain": [
       "          Key   Score       LLM_embeddings\n",
       "0     hyundai  0.4551  [-0.012657809071...\n",
       "1     jailing  0.3627  [-0.023275019600...\n",
       "2   nicknames  0.3657  [-0.032408613711...\n",
       "3  currencies  0.3676  [-0.004608497489...\n",
       "4  politician  0.3417  [-0.019050309434..."
      ]
     },
     "execution_count": 29,
     "metadata": {},
     "output_type": "execute_result"
    }
   ],
   "source": [
    "import pandas as pd\n",
    "keys_df=pd.read_csv(\"gdelt_title_text_with_LLM_embedding.csv\") #Web scrapping articles \n",
    "keys_df.columns=[\"Key\",\"Score\",\"LLM_embeddings\"]\n",
    "print(keys_df.shape)\n",
    "keys_df.head()"
   ]
  },
  {
   "cell_type": "markdown",
   "id": "98fdf315-d424-4565-aa2f-3c111e787746",
   "metadata": {},
   "source": [
    "### Reduce Embeddings Size\n",
    "For visualization purposes, we will reduce the dimensionality of the embeddings to 2 using UMAP. It's important to note that UMAP's performance can be sensitive to its hyperparameters. "
   ]
  },
  {
   "cell_type": "code",
   "execution_count": null,
   "id": "ac5dc5fe-9e7b-4918-aeba-72b75b8ceb48",
   "metadata": {},
   "outputs": [],
   "source": [
    "import ast\n",
    "\n",
    "# Convert string representations of lists to actual lists\n",
    "keys_df['LLM_embeddings'] = keys_df['LLM_embeddings'].apply(ast.literal_eval)\n",
    "\n",
    "# Use UMAP algorithm\n",
    "embeddings = umap.UMAP(n_neighbors=15,\n",
    "                       n_components=10,\n",
    "                       metric='cosine').fit_transform(keys_df['LLM_embeddings'].tolist())\n",
    "print(embeddings)\n",
    "\n",
    "# Add the reduced embeddings to the dataframe\n",
    "keys_df['key_umap'] = embeddings.tolist()\n",
    "\n",
    "# Check the output\n",
    "keys_df.head(2)"
   ]
  },
  {
   "cell_type": "code",
   "execution_count": 33,
   "id": "2c875c93-cfa1-4673-9fbd-a90e77309d4e",
   "metadata": {},
   "outputs": [
    {
     "name": "stdout",
     "output_type": "stream",
     "text": [
      "Index(['Key', 'Score', 'LLM_embeddings', 'key_umap'], dtype='object')\n"
     ]
    },
    {
     "data": {
      "text/html": [
       "<div>\n",
       "<style scoped>\n",
       "    .dataframe tbody tr th:only-of-type {\n",
       "        vertical-align: middle;\n",
       "    }\n",
       "\n",
       "    .dataframe tbody tr th {\n",
       "        vertical-align: top;\n",
       "    }\n",
       "\n",
       "    .dataframe thead th {\n",
       "        text-align: right;\n",
       "    }\n",
       "</style>\n",
       "<table border=\"1\" class=\"dataframe\">\n",
       "  <thead>\n",
       "    <tr style=\"text-align: right;\">\n",
       "      <th></th>\n",
       "      <th>Key</th>\n",
       "      <th>Score</th>\n",
       "      <th>LLM_embeddings</th>\n",
       "      <th>key_umap</th>\n",
       "    </tr>\n",
       "  </thead>\n",
       "  <tbody>\n",
       "    <tr>\n",
       "      <th>0</th>\n",
       "      <td>hyundai</td>\n",
       "      <td>0.4551</td>\n",
       "      <td>[-0.012657809071...</td>\n",
       "      <td>[3.7995724678039...</td>\n",
       "    </tr>\n",
       "    <tr>\n",
       "      <th>1</th>\n",
       "      <td>jailing</td>\n",
       "      <td>0.3627</td>\n",
       "      <td>[-0.023275019600...</td>\n",
       "      <td>[6.0693130493164...</td>\n",
       "    </tr>\n",
       "  </tbody>\n",
       "</table>\n",
       "</div>"
      ],
      "text/plain": [
       "       Key   Score       LLM_embeddings             key_umap\n",
       "0  hyundai  0.4551  [-0.012657809071...  [3.7995724678039...\n",
       "1  jailing  0.3627  [-0.023275019600...  [6.0693130493164..."
      ]
     },
     "execution_count": 33,
     "metadata": {},
     "output_type": "execute_result"
    }
   ],
   "source": [
    "print(keys_df.columns)\n",
    "keys_df.head(2)"
   ]
  },
  {
   "cell_type": "markdown",
   "id": "cd25e65e-5853-40ad-b782-bdb839561e1c",
   "metadata": {},
   "source": [
    "### Elbow Method"
   ]
  },
  {
   "cell_type": "code",
   "execution_count": 20,
   "id": "61243d89-86bd-4a24-b470-935f9042df38",
   "metadata": {},
   "outputs": [],
   "source": [
    "import matplotlib.pyplot as plt\n",
    "from sklearn.manifold import TSNE\n",
    "import umap.umap_ as umap\n",
    "from sklearn.cluster import KMeans\n",
    "import numpy as np"
   ]
  },
  {
   "cell_type": "code",
   "execution_count": 21,
   "id": "7bc02ed1-ab38-4cb4-819b-e0a59a5b500d",
   "metadata": {},
   "outputs": [],
   "source": [
    "df=keys_df.loc[:,['key', 'score', 'ada_embedding', 'key_umap']]"
   ]
  },
  {
   "cell_type": "code",
   "execution_count": null,
   "id": "b41a965c-af5b-45ed-9948-b132da8e480e",
   "metadata": {},
   "outputs": [],
   "source": [
    "# Elbow Method\n",
    "from yellowbrick.cluster import KElbowVisualizer\n",
    "\n",
  
    "embedding_values_array = np.array(df[\"key_umap\"].tolist())\n",
    "    \n",

    "umap_embedding = umap.UMAP().fit_transform(embedding_values_array)\n",
    "\n",
    "model = KMeans()\n",

    "visualizer = KElbowVisualizer(model, k=(2,15), timings= True)\n",
    "visualizer.fit(umap_embedding)        # Fit data to visualizer\n",
    "visualizer.show()       # Finalize and render figure"
   ]
  },
  {
   "cell_type": "code",
   "execution_count": null,
   "id": "86ce9b4a-22a2-4fca-8ac2-73e573bdfe51",
   "metadata": {},
   "outputs": [],
   "source": []
  }
 ],
 "metadata": {
  "kernelspec": {
   "display_name": "Python 3 (ipykernel)",
   "language": "python",
   "name": "python3"
  },
  "language_info": {
   "codemirror_mode": {
    "name": "ipython",
    "version": 3
   },
   "file_extension": ".py",
   "mimetype": "text/x-python",
   "name": "python",
   "nbconvert_exporter": "python",
   "pygments_lexer": "ipython3",
   "version": "3.11.9"
  }
 },
 "nbformat": 4,
 "nbformat_minor": 5
}
