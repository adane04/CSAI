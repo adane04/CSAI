{
 "cells": [
  {
   "cell_type": "markdown",
   "id": "9d29d674-9cd3-4dfe-adf7-26e8f1b4a9a0",
   "metadata": {},
   "source": [
    "###  GDELT dataset"
   ]
  },
  {
   "cell_type": "code",
   "execution_count": 5,
   "id": "b1c64b56-dc81-4aa5-b80e-454076909f9b",
   "metadata": {},
   "outputs": [
    {
     "name": "stdout",
     "output_type": "stream",
     "text": [
      "(10917, 12)\n"
     ]
    },
    {
     "data": {
      "text/html": [
       "<div>\n",
       "<style scoped>\n",
       "    .dataframe tbody tr th:only-of-type {\n",
       "        vertical-align: middle;\n",
       "    }\n",
       "\n",
       "    .dataframe tbody tr th {\n",
       "        vertical-align: top;\n",
       "    }\n",
       "\n",
       "    .dataframe thead th {\n",
       "        text-align: right;\n",
       "    }\n",
       "</style>\n",
       "<table border=\"1\" class=\"dataframe\">\n",
       "  <thead>\n",
       "    <tr style=\"text-align: right;\">\n",
       "      <th></th>\n",
       "      <th>id</th>\n",
       "      <th>date</th>\n",
       "      <th>source</th>\n",
       "      <th>title</th>\n",
       "      <th>content</th>\n",
       "      <th>author</th>\n",
       "      <th>url</th>\n",
       "      <th>published</th>\n",
       "      <th>published_utc</th>\n",
       "      <th>collection_utc</th>\n",
       "      <th>category_level_1</th>\n",
       "      <th>category_level_2</th>\n",
       "    </tr>\n",
       "    <tr>\n",
       "      <th>data_id</th>\n",
       "      <th></th>\n",
       "      <th></th>\n",
       "      <th></th>\n",
       "      <th></th>\n",
       "      <th></th>\n",
       "      <th></th>\n",
       "      <th></th>\n",
       "      <th></th>\n",
       "      <th></th>\n",
       "      <th></th>\n",
       "      <th></th>\n",
       "      <th></th>\n",
       "    </tr>\n",
       "  </thead>\n",
       "  <tbody>\n",
       "    <tr>\n",
       "      <th>1809</th>\n",
       "      <td>abcnews--2019-10-31--Virginia mom charged with...</td>\n",
       "      <td>2019-10-31</td>\n",
       "      <td>abcnews</td>\n",
       "      <td>Virginia mom charged with murder in 2-year-old...</td>\n",
       "      <td>The Virginia woman whose 2-year-old son was fo...</td>\n",
       "      <td>NaN</td>\n",
       "      <td>https://abcnews.go.com/US/wireStory/virginia-m...</td>\n",
       "      <td>Thu, 31 Oct 2019 16:49:56 -0400</td>\n",
       "      <td>1572554996</td>\n",
       "      <td>1572559512</td>\n",
       "      <td>crime, law and justice</td>\n",
       "      <td>crime</td>\n",
       "    </tr>\n",
       "    <tr>\n",
       "      <th>1980</th>\n",
       "      <td>abcnews--2019-11-07--2 escaped murder suspects...</td>\n",
       "      <td>2019-11-07</td>\n",
       "      <td>abcnews</td>\n",
       "      <td>2 escaped murder suspects arrested at US-Mexic...</td>\n",
       "      <td>Authorities are trying to determine if anyone ...</td>\n",
       "      <td>NaN</td>\n",
       "      <td>https://abcnews.go.com/US/wireStory/escaped-mu...</td>\n",
       "      <td>Thu, 07 Nov 2019 00:13:12 -0500</td>\n",
       "      <td>1573103592</td>\n",
       "      <td>1573131986</td>\n",
       "      <td>crime, law and justice</td>\n",
       "      <td>crime</td>\n",
       "    </tr>\n",
       "    <tr>\n",
       "      <th>1995</th>\n",
       "      <td>abcnews--2019-11-07--Family turns in escaped b...</td>\n",
       "      <td>2019-11-07</td>\n",
       "      <td>abcnews</td>\n",
       "      <td>Family turns in escaped boy, 13, suspected in ...</td>\n",
       "      <td>A 13-year-old suspect in a double homicide who...</td>\n",
       "      <td>NaN</td>\n",
       "      <td>https://abcnews.go.com/US/wireStory/family-tur...</td>\n",
       "      <td>Thu, 07 Nov 2019 07:39:54 -0500</td>\n",
       "      <td>1573130394</td>\n",
       "      <td>1573131982</td>\n",
       "      <td>crime, law and justice</td>\n",
       "      <td>crime</td>\n",
       "    </tr>\n",
       "  </tbody>\n",
       "</table>\n",
       "</div>"
      ],
      "text/plain": [
       "                                                        id        date  \\\n",
       "data_id                                                                  \n",
       "1809     abcnews--2019-10-31--Virginia mom charged with...  2019-10-31   \n",
       "1980     abcnews--2019-11-07--2 escaped murder suspects...  2019-11-07   \n",
       "1995     abcnews--2019-11-07--Family turns in escaped b...  2019-11-07   \n",
       "\n",
       "          source                                              title  \\\n",
       "data_id                                                               \n",
       "1809     abcnews  Virginia mom charged with murder in 2-year-old...   \n",
       "1980     abcnews  2 escaped murder suspects arrested at US-Mexic...   \n",
       "1995     abcnews  Family turns in escaped boy, 13, suspected in ...   \n",
       "\n",
       "                                                   content author  \\\n",
       "data_id                                                             \n",
       "1809     The Virginia woman whose 2-year-old son was fo...    NaN   \n",
       "1980     Authorities are trying to determine if anyone ...    NaN   \n",
       "1995     A 13-year-old suspect in a double homicide who...    NaN   \n",
       "\n",
       "                                                       url  \\\n",
       "data_id                                                      \n",
       "1809     https://abcnews.go.com/US/wireStory/virginia-m...   \n",
       "1980     https://abcnews.go.com/US/wireStory/escaped-mu...   \n",
       "1995     https://abcnews.go.com/US/wireStory/family-tur...   \n",
       "\n",
       "                               published  published_utc  collection_utc  \\\n",
       "data_id                                                                   \n",
       "1809     Thu, 31 Oct 2019 16:49:56 -0400     1572554996      1572559512   \n",
       "1980     Thu, 07 Nov 2019 00:13:12 -0500     1573103592      1573131986   \n",
       "1995     Thu, 07 Nov 2019 07:39:54 -0500     1573130394      1573131982   \n",
       "\n",
       "               category_level_1 category_level_2  \n",
       "data_id                                           \n",
       "1809     crime, law and justice            crime  \n",
       "1980     crime, law and justice            crime  \n",
       "1995     crime, law and justice            crime  "
      ]
     },
     "execution_count": 5,
     "metadata": {},
     "output_type": "execute_result"
    }
   ],
   "source": [
    "# download data\n",
    "import pandas as pd\n",
    "df=pd.read_csv(\"MN-DS-news-classification.csv\",index_col=0) #Web scrapping articles \n",
    "print(df.shape)\n",
    "df.head(3)"
   ]
  },
  {
   "cell_type": "code",
   "execution_count": 6,
   "id": "bc07b8c6-ffcb-40ad-8085-b111f0a024e1",
   "metadata": {},
   "outputs": [],
   "source": [
    "from sentence_transformers import SentenceTransformer\n",
    "import umap\n",
    "from keybert import KeyBERT\n",
    "import plotly.express as px\n",
    "from sklearn.cluster import KMeans"
   ]
  },
  {
   "cell_type": "markdown",
   "id": "56a4e858-a573-41b0-89ab-058e3e75e0aa",
   "metadata": {},
   "source": [
    "### Data Preprocesing"
   ]
  },
  {
   "cell_type": "code",
   "execution_count": 7,
   "id": "6ae930f7-6ac9-457d-ae9c-ca10603ab037",
   "metadata": {},
   "outputs": [],
   "source": [
    "import re\n",
    "\n",
    "# Convert text to lowercase, handling NaN values\n",
    "df['content'] = df.content.apply(lambda x: x.lower() if pd.notna(x) else x)\n",
    "# Remove numbers from the text, handling NaN values\n",
    "df['content'] = df.content.apply(lambda x: re.sub(r'\\d+', '', x) if pd.notna(x) else x)\n",
    "# Remove punctuation from the text, handling NaN values\n",
    "df['content'] = df.content.apply(lambda x: re.sub(r'[^\\w\\s]', ' ', x) if pd.notna(x) else x)\n",
    "# Remove leading and trailing whitespaces, handling NaN values\n",
    "df['content'] = df.content.apply(lambda x: x.strip() if pd.notna(x) else x)"
   ]
  },
  {
   "cell_type": "code",
   "execution_count": 8,
   "id": "4a9faad4-a0ae-43ae-9a46-2b7d47115f40",
   "metadata": {},
   "outputs": [],
   "source": [
    "def clean(raw):\n",
    "    \"\"\" Remove hyperlinks and markup \"\"\"\n",
    "    # Check if text is not NaN\n",
    "    if pd.notna(raw):\n",
    "        result = re.sub(\"<[a][^>]*>(.+?)</[a]>\", 'Link.', raw)\n",
    "        #result= re.sub(\"[^a-zA-Z]\",\"\",str(result)) # Search for all non-letters  \" \",   # Replace all non-letters with spaces\n",
    "        result = re.sub('&gt;', \"\", result)\n",
    "        result = re.sub('&#x27;', \"'\", result)\n",
    "        result = re.sub('&quot;', '\"', result)\n",
    "        result = re.sub('&#x2F;', ' ', result)\n",
    "        result = re.sub('<p>', ' ', result)\n",
    "        result = re.sub('</i>', '', result)\n",
    "        result = re.sub('&#62;', '', result)\n",
    "        result = re.sub('<i>', ' ', result)\n",
    "        result = re.sub(\"\\n\", '', result)\n",
    "        result = re.sub(\"\\t\", '', result)\n",
    "        return result\n",
    "    else:\n",
    "        return raw  # Return NaN value as is\n",
    "\n",
    "# Apply the clean function to the 'Text' column\n",
    "df['content'] = df['content'].apply(clean)"
   ]
  },
  {
   "cell_type": "code",
   "execution_count": 9,
   "id": "52f7f65c-b700-4680-a39e-5a0c642f321a",
   "metadata": {},
   "outputs": [],
   "source": [
    "from langdetect import detect\n",
    "\n",
    "# Assuming df is your DataFrame and 'Text' is the column containing text data\n",
    "\n",
    "# Replace NaN values in the 'Text' column with an empty string\n",
    "df[\"content\"] = df[\"content\"].fillna(\"\")\n",
    "\n",
    "# Filter rows with English text\n",
    "def detect_language(text):\n",
    "    try:\n",
    "        if len(str(text)) < 3:  # Adjust the threshold as needed\n",
    "            return \"Too Short\"\n",
    "        return detect(str(text))\n",
    "    except:\n",
    "        return \"Unknown\"\n",
    "\n",
    "df[\"Language\"] = df[\"content\"].apply(detect_language)\n",
    "df_filtered = df[df[\"Language\"] == \"en\"]"
   ]
  },
  {
   "cell_type": "code",
   "execution_count": 10,
   "id": "2cbc6583-2693-40e1-83a7-e2e3f311efad",
   "metadata": {},
   "outputs": [
    {
     "name": "stdout",
     "output_type": "stream",
     "text": [
      "(10909, 13)\n"
     ]
    },
    {
     "data": {
      "text/html": [
       "<div>\n",
       "<style scoped>\n",
       "    .dataframe tbody tr th:only-of-type {\n",
       "        vertical-align: middle;\n",
       "    }\n",
       "\n",
       "    .dataframe tbody tr th {\n",
       "        vertical-align: top;\n",
       "    }\n",
       "\n",
       "    .dataframe thead th {\n",
       "        text-align: right;\n",
       "    }\n",
       "</style>\n",
       "<table border=\"1\" class=\"dataframe\">\n",
       "  <thead>\n",
       "    <tr style=\"text-align: right;\">\n",
       "      <th></th>\n",
       "      <th>id</th>\n",
       "      <th>date</th>\n",
       "      <th>source</th>\n",
       "      <th>title</th>\n",
       "      <th>content</th>\n",
       "      <th>author</th>\n",
       "      <th>url</th>\n",
       "      <th>published</th>\n",
       "      <th>published_utc</th>\n",
       "      <th>collection_utc</th>\n",
       "      <th>category_level_1</th>\n",
       "      <th>category_level_2</th>\n",
       "      <th>Language</th>\n",
       "    </tr>\n",
       "    <tr>\n",
       "      <th>data_id</th>\n",
       "      <th></th>\n",
       "      <th></th>\n",
       "      <th></th>\n",
       "      <th></th>\n",
       "      <th></th>\n",
       "      <th></th>\n",
       "      <th></th>\n",
       "      <th></th>\n",
       "      <th></th>\n",
       "      <th></th>\n",
       "      <th></th>\n",
       "      <th></th>\n",
       "      <th></th>\n",
       "    </tr>\n",
       "  </thead>\n",
       "  <tbody>\n",
       "    <tr>\n",
       "      <th>1809</th>\n",
       "      <td>abcnews--2019-10-31--Virginia mom charged with...</td>\n",
       "      <td>2019-10-31</td>\n",
       "      <td>abcnews</td>\n",
       "      <td>Virginia mom charged with murder in 2-year-old...</td>\n",
       "      <td>the virginia woman whose  year old son was fou...</td>\n",
       "      <td>NaN</td>\n",
       "      <td>https://abcnews.go.com/US/wireStory/virginia-m...</td>\n",
       "      <td>Thu, 31 Oct 2019 16:49:56 -0400</td>\n",
       "      <td>1572554996</td>\n",
       "      <td>1572559512</td>\n",
       "      <td>crime, law and justice</td>\n",
       "      <td>crime</td>\n",
       "      <td>en</td>\n",
       "    </tr>\n",
       "    <tr>\n",
       "      <th>1980</th>\n",
       "      <td>abcnews--2019-11-07--2 escaped murder suspects...</td>\n",
       "      <td>2019-11-07</td>\n",
       "      <td>abcnews</td>\n",
       "      <td>2 escaped murder suspects arrested at US-Mexic...</td>\n",
       "      <td>authorities are trying to determine if anyone ...</td>\n",
       "      <td>NaN</td>\n",
       "      <td>https://abcnews.go.com/US/wireStory/escaped-mu...</td>\n",
       "      <td>Thu, 07 Nov 2019 00:13:12 -0500</td>\n",
       "      <td>1573103592</td>\n",
       "      <td>1573131986</td>\n",
       "      <td>crime, law and justice</td>\n",
       "      <td>crime</td>\n",
       "      <td>en</td>\n",
       "    </tr>\n",
       "  </tbody>\n",
       "</table>\n",
       "</div>"
      ],
      "text/plain": [
       "                                                        id        date  \\\n",
       "data_id                                                                  \n",
       "1809     abcnews--2019-10-31--Virginia mom charged with...  2019-10-31   \n",
       "1980     abcnews--2019-11-07--2 escaped murder suspects...  2019-11-07   \n",
       "\n",
       "          source                                              title  \\\n",
       "data_id                                                               \n",
       "1809     abcnews  Virginia mom charged with murder in 2-year-old...   \n",
       "1980     abcnews  2 escaped murder suspects arrested at US-Mexic...   \n",
       "\n",
       "                                                   content author  \\\n",
       "data_id                                                             \n",
       "1809     the virginia woman whose  year old son was fou...    NaN   \n",
       "1980     authorities are trying to determine if anyone ...    NaN   \n",
       "\n",
       "                                                       url  \\\n",
       "data_id                                                      \n",
       "1809     https://abcnews.go.com/US/wireStory/virginia-m...   \n",
       "1980     https://abcnews.go.com/US/wireStory/escaped-mu...   \n",
       "\n",
       "                               published  published_utc  collection_utc  \\\n",
       "data_id                                                                   \n",
       "1809     Thu, 31 Oct 2019 16:49:56 -0400     1572554996      1572559512   \n",
       "1980     Thu, 07 Nov 2019 00:13:12 -0500     1573103592      1573131986   \n",
       "\n",
       "               category_level_1 category_level_2 Language  \n",
       "data_id                                                    \n",
       "1809     crime, law and justice            crime       en  \n",
       "1980     crime, law and justice            crime       en  "
      ]
     },
     "execution_count": 10,
     "metadata": {},
     "output_type": "execute_result"
    }
   ],
   "source": [
    "print(df_filtered.shape)\n",
    "df_filtered.head(2)"
   ]
  },
  {
   "cell_type": "markdown",
   "id": "86a12a45-4d66-43ca-8478-e9b343208409",
   "metadata": {},
   "source": [
    "##### KeyBERT"
   ]
  },
  {
   "cell_type": "code",
   "execution_count": null,
   "id": "7ae6fd1d-e75d-47a4-9cd6-5b7265cf1bd5",
   "metadata": {},
   "outputs": [],
   "source": [
    "from keybert import KeyBERT\n",
    "\n",
    "kw_model = KeyBERT()\n",
    "titles_list = df_filtered.content.tolist()\n",
    "titles_keys = kw_model.extract_keywords(titles_list)\n",
    "df_filtered[\"kewords\"] = titles_keys\n",
    "df_filtered.head(2)\n",
    "pd.set_option('display.max_colwidth', 30)\n",
    "df_filtered.head(2)  \n",
    "\n",
    "df_filtered['keys_length'] = df_filtered['kewords'].apply(lambda x: len(x))\n",
    "df_filtered.head(2)  "
   ]
  },
  {
   "cell_type": "code",
   "execution_count": null,
   "id": "a4eeba8e-eec0-4e61-8124-d969adb77879",
   "metadata": {},
   "outputs": [],
   "source": [
    "df5 = df_filtered[df_filtered.keys_length == 5]\n",
    "df5.drop('keys_length', axis=1, inplace=True)\n",
    "df5.to_csv(\"parsed_5_keys_file.csv\", index=False)\n",
    "print(df5.shape)\n",
    "df5.head(1)"
   ]
  },
  {
   "cell_type": "code",
   "execution_count": null,
   "id": "1576ba12-d864-4fea-9b78-c1f23b1105cc",
   "metadata": {},
   "outputs": [],
   "source": [
    "import pandas as pd\n",
    "\n",
    "def extract_keywords(keyword_list):\n",
    "    return [item[0] for item in keyword_list]\n",
    "\n",
    "def extract_scores(keyword_list):\n",
    "    return [float(item[1]) for item in keyword_list]\n",
    "\n",
    "df5['Keywords'] = df5['kewords'].apply(extract_keywords)\n",
    "df5['Scores'] = df5['kewords'].apply(extract_scores)\n",
    "\n",
    "df5.drop(columns=['kewords'], inplace=True)\n",
    "df5.head(3)\n"
   ]
  },
  {
   "cell_type": "code",
   "execution_count": 17,
   "id": "cff53c49-cf99-4888-b083-f818d737c6c3",
   "metadata": {},
   "outputs": [
    {
     "data": {
      "text/plain": [
       "Index(['id', 'date', 'source', 'title', 'content', 'author', 'url',\n",
       "       'published', 'published_utc', 'collection_utc', 'category_level_1',\n",
       "       'category_level_2', 'Language', 'Keywords', 'Scores'],\n",
       "      dtype='object')"
      ]
     },
     "execution_count": 17,
     "metadata": {},
     "output_type": "execute_result"
    }
   ],
   "source": [
    "df5.columns "
   ]
  },
  {
   "cell_type": "code",
   "execution_count": null,
   "id": "37378539-d9f4-47fb-b3b9-ab6776bf05ac",
   "metadata": {},
   "outputs": [],
   "source": [
    "# Create a list of all sublists of keywords and keyphrases\n",
    "df5_keys = df5.Keywords.tolist()\n",
    "# Flatten the list of sublists\n",
    "flat_keys = [item for sublist in df5_keys for item in sublist]\n",
    "# Create a DataFrame with the distinct keywords and scores\n",
    "keys_df = pd.DataFrame(flat_keys, columns=['key'])\n",
    "# Count how many distinct keywords were extracted\n",
    "print(keys_df.shape)\n",
    "keys_df.head()\n"
   ]
  },
  {
   "cell_type": "code",
   "execution_count": null,
   "id": "c72876df-acac-4187-bece-3fede0b2ba3b",
   "metadata": {},
   "outputs": [],
   "source": [
    "keys_df=df5\n",
    "keys_df.head(3)"
   ]
  },
  {
   "cell_type": "markdown",
   "id": "d7e6b1a9-ea61-4ddb-8e9b-289ca777e167",
   "metadata": {},
   "source": [
    "#### Embeddings"
   ]
  },
  {
   "cell_type": "code",
   "execution_count": 21,
   "id": "e6e67a8d-c153-41e9-88a9-bc9817caed94",
   "metadata": {},
   "outputs": [],
   "source": [
    "# download the sentence embeddings model\n",
    "embedder = SentenceTransformer('all-mpnet-base-v2')"
   ]
  },
  {
   "cell_type": "code",
   "execution_count": null,
   "id": "0b3434f4-27fd-4e3c-9bff-a8be54728956",
   "metadata": {},
   "outputs": [],
   "source": [
    "# Function to embed keywords\n",
    "import numpy as np\n",
    "def embed_keywords(keywords):\n",
    "    return embedder.encode(keywords)\n",
    "keys_df['Embeddings'] = keys_df['Keywords'].apply(embed_keywords)\n",
    "print(keys_df['Embeddings'].shape)\n",
    "\n",
    "keys_df.to_csv(\"MNDS_ST_embedding.csv\")\n",
    "keys_df.head(3)"
   ]
  },
  {
   "cell_type": "markdown",
   "id": "98fdf315-d424-4565-aa2f-3c111e787746",
   "metadata": {},
   "source": [
    "##### Reduce Embeddings Size: UMAP"
   ]
  },
  {
   "cell_type": "code",
   "execution_count": null,
   "id": "d9ae23f8-01cf-48a2-b14b-330b4887aa91",
   "metadata": {},
   "outputs": [],
   "source": [
    "import numpy as np\n",
    "import umap\n",
    "\n",
    "# Convert list representations of embeddings to numpy arrays\n",
    "embeddings_array = np.array([np.array(embedding) for embedding in keys_df['Embeddings']])\n",
    "# Reshape the array to 2D if needed\n",
    "if embeddings_array.ndim == 3:\n",
    "    embeddings_array = embeddings_array.reshape(embeddings_array.shape[0], -1)\n",
    "\n",
    "# Use UMAP algorithm\n",
    "reduced_embeddings = umap.UMAP(n_neighbors=15,\n",
    "                               n_components=10,\n",
    "                               metric='cosine').fit_transform(embeddings_array)\n",
    "# Add the reduced embeddings to the dataframe\n",
    "keys_df['key_umap'] = reduced_embeddings.tolist()\n",
    "\n",
    "# Check the output\n",
    "keys_df.head(3)"
   ]
  },
  {
   "cell_type": "markdown",
   "id": "23d4743d-9bf3-49d3-a9b4-c9dcafd47429",
   "metadata": {},
   "source": [
    "##### Determine #clsuters with elbow method"
   ]
  },
  {
   "cell_type": "code",
   "execution_count": null,
   "id": "74a4651c-343c-4f61-a620-279690e6f203",
   "metadata": {},
   "outputs": [],
   "source": [
    "# Elbow Method for K means# Import ElbowVisualizer\n",
    "from yellowbrick.cluster import KElbowVisualizer\n",
    "\n",
    "# Convert to NumPy array\n",
    "embedding_values_array = np.array(keys_df[\"key_umap\"].tolist())\n",
    "    \n",
    "# Reduce dimensionality using UMAP\n",
    "umap_embedding = umap.UMAP().fit_transform(embedding_values_array)\n",
    "\n",
    "model = KMeans()\n",
    "# k is range of number of clusters.\n",
    "visualizer = KElbowVisualizer(model, k=(2,25), timings= True)\n",
    "visualizer.fit(umap_embedding)        # Fit data to visualizer\n",
    "visualizer.show()"
   ]
  },
  {
   "cell_type": "code",
   "execution_count": null,
   "id": "86ce9b4a-22a2-4fca-8ac2-73e573bdfe51",
   "metadata": {},
   "outputs": [],
   "source": []
  }
 ],
 "metadata": {
  "kernelspec": {
   "display_name": "Python 3 (ipykernel)",
   "language": "python",
   "name": "python3"
  },
  "language_info": {
   "codemirror_mode": {
    "name": "ipython",
    "version": 3
   },
   "file_extension": ".py",
   "mimetype": "text/x-python",
   "name": "python",
   "nbconvert_exporter": "python",
   "pygments_lexer": "ipython3",
   "version": "3.11.9"
  }
 },
 "nbformat": 4,
 "nbformat_minor": 5
}
